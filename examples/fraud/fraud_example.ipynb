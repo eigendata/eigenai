{
  "cells": [
    {
      "cell_type": "code",
      "execution_count": null,
      "metadata": {},
      "outputs": [],
      "source": [
        "import timeit\n",
        "\n",
        "import pandas as pd\n",
        "\n",
        "from eigenrules import Prediction, Rules, RulesEngine"
      ]
    },
    {
      "attachments": {},
      "cell_type": "markdown",
      "metadata": {},
      "source": [
        "### We now create a Rules Engine instance"
      ]
    },
    {
      "cell_type": "code",
      "execution_count": null,
      "metadata": {},
      "outputs": [],
      "source": [
        "# set the api token as an ENV var under EIGEN_API_TOKEN or pass it as an arg;\n",
        "# alternativelly call engine.authenticate(username, password)\n",
        "engine = RulesEngine(api_token=\"xEuRNqR5QG3zBqwQpwEUQw\")"
      ]
    },
    {
      "attachments": {},
      "cell_type": "markdown",
      "metadata": {},
      "source": [
        "### We pass the data path to our train function\n",
        "#### Our data here is a 100k dataset for fraud cases\n",
        "##### We must pass which features we want to use to the training call"
      ]
    },
    {
      "cell_type": "code",
      "execution_count": null,
      "metadata": {},
      "outputs": [],
      "source": [
        "data_path = \"./dataset.csv\"\n",
        "start = timeit.default_timer()\n",
        "model_id = engine.train(\n",
        "    name=\"example_fraud_model\",\n",
        "    data_path=data_path,\n",
        "    target=\"is_fraud\",\n",
        "    features=[\"amount\", \"amount_ratio\", \"orders_qty\", \"order_type\", \"product_risk\", \"seconds_from_order\"],\n",
        "    control_class=0,\n",
        ")\n",
        "end = timeit.default_timer()\n",
        "\n",
        "print(\"model ID: \", model_id, \"\\n\\n\")\n",
        "print(\"training time: \", end - start)"
      ]
    },
    {
      "attachments": {},
      "cell_type": "markdown",
      "metadata": {},
      "source": [
        "### List all previously trained models"
      ]
    },
    {
      "cell_type": "code",
      "execution_count": null,
      "metadata": {},
      "outputs": [],
      "source": [
        "models = engine.list_models()\n",
        "print(\"Model List\\n\", models, \"\\n\\n\")"
      ]
    },
    {
      "attachments": {},
      "cell_type": "markdown",
      "metadata": {},
      "source": [
        "### We are using our recently trained model by default, let's call Get Rules\n",
        "#### We can use the model_id to call our functions with previously trained models instead"
      ]
    },
    {
      "cell_type": "code",
      "execution_count": null,
      "metadata": {},
      "outputs": [],
      "source": [
        "start = timeit.default_timer()\n",
        "rules: Rules = engine.get_rules()\n",
        "end = timeit.default_timer()\n",
        "print(\"get rules time: \", end - start)\n",
        "print(\"rules set: \\n\", rules.rule_set, \"\\n\\n\")\n",
        "print(\"feature importance: \\n\", rules.importance, \"\\n\\n\")"
      ]
    },
    {
      "attachments": {},
      "cell_type": "markdown",
      "metadata": {},
      "source": [
        "### Let's create a user datapoint"
      ]
    },
    {
      "cell_type": "code",
      "execution_count": null,
      "metadata": {},
      "outputs": [],
      "source": [
        "# in a dict each key is a column with a list of values under it\n",
        "user_data = {\n",
        "    \"amount\": [886],\n",
        "    \"amount_ratio\": [0.635851365592393],\n",
        "    \"seconds_from_login\": [1614],\n",
        "    \"user_level\": [\"premium\"],\n",
        "    \"orders_qty\": [15],\n",
        "    \"order_type\": [\"restaurant\"],\n",
        "    \"user_age\": [46],\n",
        "    \"transaction_type\": [\"debit\"],\n",
        "    \"product_risk\": [0.6276506990427705],\n",
        "    \"seconds_from_order\": [393],\n",
        "}\n",
        "datapoint = pd.DataFrame.from_dict(user_data)"
      ]
    },
    {
      "attachments": {},
      "cell_type": "markdown",
      "metadata": {},
      "source": [
        "### Let's run a prediction over this user"
      ]
    },
    {
      "cell_type": "code",
      "execution_count": null,
      "metadata": {},
      "outputs": [],
      "source": [
        "start = timeit.default_timer()\n",
        "prediction: Prediction = engine.predict(datapoint=datapoint)\n",
        "end = timeit.default_timer()\n",
        "print(\"prediction time: \", end - start)\n",
        "print(\"prediction result: \", prediction.result)\n",
        "print(\"prediction confidence: \", prediction.confidence)"
      ]
    }
  ],
  "metadata": {
    "kernelspec": {
      "display_name": "eigendata-5FNZK0uN-py3.10",
      "language": "python",
      "name": "python3"
    },
    "language_info": {
      "codemirror_mode": {
        "name": "ipython",
        "version": 3
      },
      "file_extension": ".py",
      "mimetype": "text/x-python",
      "name": "python",
      "nbconvert_exporter": "python",
      "pygments_lexer": "ipython3",
      "version": "3.10.6"
    },
    "orig_nbformat": 4
  },
  "nbformat": 4,
  "nbformat_minor": 2
}
